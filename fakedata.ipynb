{
 "cells": [
  {
   "cell_type": "code",
   "execution_count": 14,
   "metadata": {},
   "outputs": [],
   "source": [
    "import sqlite3\n",
    "from faker import Faker\n",
    "from random import randint\n",
    "import random"
   ]
  },
  {
   "cell_type": "code",
   "execution_count": 15,
   "metadata": {},
   "outputs": [
    {
     "name": "stdout",
     "output_type": "stream",
     "text": [
      "['544.732.010-07', '688.698.174-90', '664.284.192-11', '352.605.671-45', '636.664.917-07', '198.793.399-08', '263.403.921-21', '198.819.166-15', '465.605.988-96', '240.640.334-34', '775.967.907-63', '014.256.681-00', '074.061.178-09', '855.149.682-43', '057.736.139-21', '826.575.339-06', '704.364.080-66', '632.335.743-71', '000.667.140-36', '886.839.496-05']\n"
     ]
    }
   ],
   "source": [
    "def generate_cpf():\n",
    "    # Generate the first 9 digits of the CPF randomly\n",
    "    cpf = [random.randint(0, 9) for _ in range(9)]\n",
    "    \n",
    "    # Calculate the first verification digit\n",
    "    sum1 = sum((10 - i) * cpf[i] for i in range(9))\n",
    "    d1 = 11 - (sum1 % 11)\n",
    "    if d1 >= 10:\n",
    "        d1 = 0\n",
    "    cpf.append(d1)\n",
    "    \n",
    "    # Calculate the second verification digit\n",
    "    sum2 = sum((11 - i) * cpf[i] for i in range(10))\n",
    "    d2 = 11 - (sum2 % 11)\n",
    "    if d2 >= 10:\n",
    "        d2 = 0\n",
    "    cpf.append(d2)\n",
    "    \n",
    "    # Format the CPF as XXX.XXX.XXX-YY\n",
    "    cpf_str = f\"{''.join(map(str, cpf[:3]))}.{''.join(map(str, cpf[3:6]))}.{''.join(map(str, cpf[6:9]))}-{''.join(map(str, cpf[9:]))}\"\n",
    "    return cpf_str\n",
    "\n",
    "# Example usage\n",
    "print([generate_cpf() for _ in range(20)])\n"
   ]
  },
  {
   "cell_type": "code",
   "execution_count": 20,
   "metadata": {},
   "outputs": [],
   "source": [
    "# Initialize Faker\n",
    "faker = Faker()\n",
    "\n",
    "# Connect to SQLite\n",
    "conn = sqlite3.connect('fake.sqlite3')\n",
    "cursor = conn.cursor()"
   ]
  },
  {
   "cell_type": "code",
   "execution_count": 21,
   "metadata": {},
   "outputs": [],
   "source": [
    "N = 100\n",
    "\n",
    "for _ in range(N):\n",
    "    user_id = faker.random_int(min=1000, max=100000)\n",
    "    phone_number = faker.phone_number()\n",
    "    address = faker.address().replace('\\n', ', ')\n",
    "    username = faker.user_name()\n",
    "    cpf = faker.random_element([generate_cpf() for _ in range(N)])\n",
    "    is_psychologist = random.choice([True, False])\n",
    "    cursor.execute('''\n",
    "        INSERT INTO appsico_app_patients (user_ptr_id, phonenumber, address, user_name, cpf, is_psicologist)\n",
    "        VALUES (?, ?, ?, ?, ?, ?)\n",
    "    ''', (user_id, phone_number, address, username, cpf, is_psychologist))\n",
    "\n",
    "conn.commit()\n",
    "conn.close()"
   ]
  },
  {
   "cell_type": "code",
   "execution_count": null,
   "metadata": {},
   "outputs": [],
   "source": []
  },
  {
   "cell_type": "code",
   "execution_count": null,
   "metadata": {},
   "outputs": [],
   "source": []
  },
  {
   "cell_type": "code",
   "execution_count": null,
   "metadata": {},
   "outputs": [],
   "source": []
  },
  {
   "cell_type": "code",
   "execution_count": null,
   "metadata": {},
   "outputs": [],
   "source": []
  },
  {
   "cell_type": "code",
   "execution_count": null,
   "metadata": {},
   "outputs": [],
   "source": []
  },
  {
   "cell_type": "code",
   "execution_count": null,
   "metadata": {},
   "outputs": [],
   "source": []
  },
  {
   "cell_type": "code",
   "execution_count": null,
   "metadata": {},
   "outputs": [],
   "source": [
    "# Get all CPFs for use in transactions\n",
    "cursor.execute('SELECT cpf_user_id FROM appsico_app_calendar')\n",
    "\n",
    "# Insert fake data into transactions\n",
    "range_ = range(20)\n",
    "for _ in range_:\n",
    "    duration = randint(1000, 10000)  # Random duration in seconds\n",
    "    date = faker.date_between(start_date='-1y', end_date='today')  # Random date within the last year\n",
    "    cpf = faker.random_element([generate_cpf() for _ in range_])  # Pick a random CPF from the persons table\n",
    "    cursor.execute('INSERT INTO appsico_app_calendar (duration, data, cpf_user_id) VALUES (?, ?, ?)', (duration, date, cpf))\n",
    "    \n",
    "    \n",
    "conn.commit()\n",
    "conn.close()\n"
   ]
  },
  {
   "cell_type": "code",
   "execution_count": null,
   "metadata": {},
   "outputs": [],
   "source": []
  },
  {
   "cell_type": "code",
   "execution_count": null,
   "metadata": {},
   "outputs": [],
   "source": []
  },
  {
   "cell_type": "code",
   "execution_count": null,
   "metadata": {},
   "outputs": [],
   "source": []
  },
  {
   "cell_type": "code",
   "execution_count": null,
   "metadata": {},
   "outputs": [],
   "source": []
  },
  {
   "cell_type": "code",
   "execution_count": null,
   "metadata": {},
   "outputs": [],
   "source": []
  },
  {
   "cell_type": "code",
   "execution_count": null,
   "metadata": {},
   "outputs": [],
   "source": []
  },
  {
   "cell_type": "code",
   "execution_count": null,
   "metadata": {},
   "outputs": [],
   "source": []
  }
 ],
 "metadata": {
  "kernelspec": {
   "display_name": "venv_appsico",
   "language": "python",
   "name": "python3"
  },
  "language_info": {
   "codemirror_mode": {
    "name": "ipython",
    "version": 3
   },
   "file_extension": ".py",
   "mimetype": "text/x-python",
   "name": "python",
   "nbconvert_exporter": "python",
   "pygments_lexer": "ipython3",
   "version": "3.10.12"
  }
 },
 "nbformat": 4,
 "nbformat_minor": 2
}
